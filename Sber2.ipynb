{
 "cells": [
  {
   "cell_type": "code",
   "execution_count": 126,
   "id": "f5ce415b",
   "metadata": {},
   "outputs": [],
   "source": [
    "import pandas as pd\n",
    "import seaborn as sns\n",
    "import numpy as np\n",
    "import matplotlib.pyplot as plt\n",
    "import plotly.express as px"
   ]
  },
  {
   "cell_type": "code",
   "execution_count": 127,
   "id": "ac0c37ee",
   "metadata": {},
   "outputs": [],
   "source": [
    "#%xmode Minimal"
   ]
  },
  {
   "cell_type": "markdown",
   "id": "14ccd80d",
   "metadata": {},
   "source": [
    "### Предобработка"
   ]
  },
  {
   "cell_type": "code",
   "execution_count": 128,
   "id": "6602bf33",
   "metadata": {},
   "outputs": [
    {
     "data": {
      "text/html": [
       "<div>\n",
       "<style scoped>\n",
       "    .dataframe tbody tr th:only-of-type {\n",
       "        vertical-align: middle;\n",
       "    }\n",
       "\n",
       "    .dataframe tbody tr th {\n",
       "        vertical-align: top;\n",
       "    }\n",
       "\n",
       "    .dataframe thead th {\n",
       "        text-align: right;\n",
       "    }\n",
       "</style>\n",
       "<table border=\"1\" class=\"dataframe\">\n",
       "  <thead>\n",
       "    <tr style=\"text-align: right;\">\n",
       "      <th></th>\n",
       "      <th>case</th>\n",
       "      <th>stage</th>\n",
       "      <th>start_time</th>\n",
       "      <th>end_time</th>\n",
       "    </tr>\n",
       "  </thead>\n",
       "  <tbody>\n",
       "    <tr>\n",
       "      <th>0</th>\n",
       "      <td>77654086061</td>\n",
       "      <td>Заказ оформлен</td>\n",
       "      <td>05.10.2022 17:57</td>\n",
       "      <td>05.10.2022 17:57</td>\n",
       "    </tr>\n",
       "    <tr>\n",
       "      <th>1</th>\n",
       "      <td>77654086061</td>\n",
       "      <td>Поступление заказа сборщику</td>\n",
       "      <td>05.10.2022 17:57</td>\n",
       "      <td>05.10.2022 17:58</td>\n",
       "    </tr>\n",
       "    <tr>\n",
       "      <th>2</th>\n",
       "      <td>77654086061</td>\n",
       "      <td>Сборка заказа</td>\n",
       "      <td>05.10.2022 17:58</td>\n",
       "      <td>05.10.2022 18:22</td>\n",
       "    </tr>\n",
       "    <tr>\n",
       "      <th>3</th>\n",
       "      <td>77654086061</td>\n",
       "      <td>Упаковка товара</td>\n",
       "      <td>05.10.2022 18:22</td>\n",
       "      <td>05.10.2022 18:24</td>\n",
       "    </tr>\n",
       "    <tr>\n",
       "      <th>4</th>\n",
       "      <td>77654086061</td>\n",
       "      <td>Оплата</td>\n",
       "      <td>05.10.2022 18:24</td>\n",
       "      <td>05.10.2022 18:24</td>\n",
       "    </tr>\n",
       "  </tbody>\n",
       "</table>\n",
       "</div>"
      ],
      "text/plain": [
       "          case                        stage        start_time  \\\n",
       "0  77654086061               Заказ оформлен  05.10.2022 17:57   \n",
       "1  77654086061  Поступление заказа сборщику  05.10.2022 17:57   \n",
       "2  77654086061                Сборка заказа  05.10.2022 17:58   \n",
       "3  77654086061              Упаковка товара  05.10.2022 18:22   \n",
       "4  77654086061                       Оплата  05.10.2022 18:24   \n",
       "\n",
       "           end_time  \n",
       "0  05.10.2022 17:57  \n",
       "1  05.10.2022 17:58  \n",
       "2  05.10.2022 18:22  \n",
       "3  05.10.2022 18:24  \n",
       "4  05.10.2022 18:24  "
      ]
     },
     "execution_count": 128,
     "metadata": {},
     "output_type": "execute_result"
    }
   ],
   "source": [
    "df = pd.read_csv(r'C:\\hackathon_sber_pm_2023\\Доставка_продуктов.csv', sep=';', encoding='windows-1251')\n",
    "df.head()"
   ]
  },
  {
   "cell_type": "code",
   "execution_count": 129,
   "id": "ecb4ff6f",
   "metadata": {},
   "outputs": [],
   "source": [
    "#перевел время в нормальный формат\n",
    "df['start_time'] = pd.to_datetime(df.start_time, format='%d.%m.%Y %H:%M')\n",
    "df['end_time'] = pd.to_datetime(df.end_time, format='%d.%m.%Y %H:%M')"
   ]
  },
  {
   "cell_type": "code",
   "execution_count": 130,
   "id": "54692ae7",
   "metadata": {},
   "outputs": [],
   "source": [
    "#время каждой операции в минутах\n",
    "df['op_time_minutes'] = (df.end_time.astype('int64') - df.start_time.astype('int64')) // 10**9 / 60\n",
    "\n",
    "#день начала и конца каждой операции\n",
    "df['start_time_day'] = df.start_time.dt.date\n",
    "df['end_time_day'] = df.start_time.dt.date"
   ]
  },
  {
   "cell_type": "code",
   "execution_count": 131,
   "id": "44984209",
   "metadata": {},
   "outputs": [
    {
     "data": {
      "text/html": [
       "<div>\n",
       "<style scoped>\n",
       "    .dataframe tbody tr th:only-of-type {\n",
       "        vertical-align: middle;\n",
       "    }\n",
       "\n",
       "    .dataframe tbody tr th {\n",
       "        vertical-align: top;\n",
       "    }\n",
       "\n",
       "    .dataframe thead th {\n",
       "        text-align: right;\n",
       "    }\n",
       "</style>\n",
       "<table border=\"1\" class=\"dataframe\">\n",
       "  <thead>\n",
       "    <tr style=\"text-align: right;\">\n",
       "      <th></th>\n",
       "      <th>case</th>\n",
       "      <th>stage</th>\n",
       "      <th>start_time</th>\n",
       "      <th>end_time</th>\n",
       "      <th>op_time_minutes</th>\n",
       "      <th>start_time_day</th>\n",
       "      <th>end_time_day</th>\n",
       "    </tr>\n",
       "  </thead>\n",
       "  <tbody>\n",
       "    <tr>\n",
       "      <th>0</th>\n",
       "      <td>77654086061</td>\n",
       "      <td>Заказ оформлен</td>\n",
       "      <td>2022-10-05 17:57:00</td>\n",
       "      <td>2022-10-05 17:57:00</td>\n",
       "      <td>0.0</td>\n",
       "      <td>2022-10-05</td>\n",
       "      <td>2022-10-05</td>\n",
       "    </tr>\n",
       "    <tr>\n",
       "      <th>1</th>\n",
       "      <td>77654086061</td>\n",
       "      <td>Поступление заказа сборщику</td>\n",
       "      <td>2022-10-05 17:57:00</td>\n",
       "      <td>2022-10-05 17:58:00</td>\n",
       "      <td>1.0</td>\n",
       "      <td>2022-10-05</td>\n",
       "      <td>2022-10-05</td>\n",
       "    </tr>\n",
       "    <tr>\n",
       "      <th>2</th>\n",
       "      <td>77654086061</td>\n",
       "      <td>Сборка заказа</td>\n",
       "      <td>2022-10-05 17:58:00</td>\n",
       "      <td>2022-10-05 18:22:00</td>\n",
       "      <td>24.0</td>\n",
       "      <td>2022-10-05</td>\n",
       "      <td>2022-10-05</td>\n",
       "    </tr>\n",
       "  </tbody>\n",
       "</table>\n",
       "</div>"
      ],
      "text/plain": [
       "          case                        stage          start_time  \\\n",
       "0  77654086061               Заказ оформлен 2022-10-05 17:57:00   \n",
       "1  77654086061  Поступление заказа сборщику 2022-10-05 17:57:00   \n",
       "2  77654086061                Сборка заказа 2022-10-05 17:58:00   \n",
       "\n",
       "             end_time  op_time_minutes start_time_day end_time_day  \n",
       "0 2022-10-05 17:57:00              0.0     2022-10-05   2022-10-05  \n",
       "1 2022-10-05 17:58:00              1.0     2022-10-05   2022-10-05  \n",
       "2 2022-10-05 18:22:00             24.0     2022-10-05   2022-10-05  "
      ]
     },
     "execution_count": 131,
     "metadata": {},
     "output_type": "execute_result"
    }
   ],
   "source": [
    "df.head(3)"
   ]
  },
  {
   "cell_type": "code",
   "execution_count": 132,
   "id": "9c3ca504",
   "metadata": {},
   "outputs": [
    {
     "data": {
      "text/html": [
       "<div>\n",
       "<style scoped>\n",
       "    .dataframe tbody tr th:only-of-type {\n",
       "        vertical-align: middle;\n",
       "    }\n",
       "\n",
       "    .dataframe tbody tr th {\n",
       "        vertical-align: top;\n",
       "    }\n",
       "\n",
       "    .dataframe thead th {\n",
       "        text-align: right;\n",
       "    }\n",
       "</style>\n",
       "<table border=\"1\" class=\"dataframe\">\n",
       "  <thead>\n",
       "    <tr style=\"text-align: right;\">\n",
       "      <th></th>\n",
       "      <th>case</th>\n",
       "      <th>stage</th>\n",
       "      <th>start_time</th>\n",
       "      <th>end_time</th>\n",
       "      <th>op_time_minutes</th>\n",
       "      <th>start_time_day</th>\n",
       "      <th>end_time_day</th>\n",
       "    </tr>\n",
       "  </thead>\n",
       "  <tbody>\n",
       "    <tr>\n",
       "      <th>178828</th>\n",
       "      <td>37466784704</td>\n",
       "      <td>Заказ оформлен</td>\n",
       "      <td>2022-12-06 11:15:00</td>\n",
       "      <td>2022-12-06 11:15:00</td>\n",
       "      <td>0.0</td>\n",
       "      <td>2022-12-06</td>\n",
       "      <td>2022-12-06</td>\n",
       "    </tr>\n",
       "    <tr>\n",
       "      <th>178829</th>\n",
       "      <td>37466784704</td>\n",
       "      <td>Поступление заказа сборщику</td>\n",
       "      <td>2022-12-06 11:16:00</td>\n",
       "      <td>2022-12-06 11:17:00</td>\n",
       "      <td>1.0</td>\n",
       "      <td>2022-12-06</td>\n",
       "      <td>2022-12-06</td>\n",
       "    </tr>\n",
       "    <tr>\n",
       "      <th>178830</th>\n",
       "      <td>37466784704</td>\n",
       "      <td>Сборка заказа</td>\n",
       "      <td>2022-12-06 11:41:00</td>\n",
       "      <td>2022-12-06 12:05:00</td>\n",
       "      <td>24.0</td>\n",
       "      <td>2022-12-06</td>\n",
       "      <td>2022-12-06</td>\n",
       "    </tr>\n",
       "    <tr>\n",
       "      <th>178831</th>\n",
       "      <td>37466784704</td>\n",
       "      <td>Упаковка товара</td>\n",
       "      <td>2022-12-06 12:07:00</td>\n",
       "      <td>2022-12-06 12:09:00</td>\n",
       "      <td>2.0</td>\n",
       "      <td>2022-12-06</td>\n",
       "      <td>2022-12-06</td>\n",
       "    </tr>\n",
       "    <tr>\n",
       "      <th>178832</th>\n",
       "      <td>37466784704</td>\n",
       "      <td>Оплата</td>\n",
       "      <td>2022-12-06 12:10:00</td>\n",
       "      <td>2022-12-06 12:10:00</td>\n",
       "      <td>0.0</td>\n",
       "      <td>2022-12-06</td>\n",
       "      <td>2022-12-06</td>\n",
       "    </tr>\n",
       "    <tr>\n",
       "      <th>178833</th>\n",
       "      <td>37466784704</td>\n",
       "      <td>Передача товара курьеру</td>\n",
       "      <td>2022-12-06 12:15:00</td>\n",
       "      <td>2022-12-06 12:20:00</td>\n",
       "      <td>5.0</td>\n",
       "      <td>2022-12-06</td>\n",
       "      <td>2022-12-06</td>\n",
       "    </tr>\n",
       "    <tr>\n",
       "      <th>178834</th>\n",
       "      <td>37466784704</td>\n",
       "      <td>Доставка заказа</td>\n",
       "      <td>2022-12-06 12:20:00</td>\n",
       "      <td>2022-12-06 12:51:00</td>\n",
       "      <td>31.0</td>\n",
       "      <td>2022-12-06</td>\n",
       "      <td>2022-12-06</td>\n",
       "    </tr>\n",
       "    <tr>\n",
       "      <th>178835</th>\n",
       "      <td>37466784704</td>\n",
       "      <td>Проверка заказа</td>\n",
       "      <td>2022-12-06 12:51:00</td>\n",
       "      <td>2022-12-06 12:52:00</td>\n",
       "      <td>1.0</td>\n",
       "      <td>2022-12-06</td>\n",
       "      <td>2022-12-06</td>\n",
       "    </tr>\n",
       "    <tr>\n",
       "      <th>178836</th>\n",
       "      <td>37466784704</td>\n",
       "      <td>Отмена заказа</td>\n",
       "      <td>2022-12-06 12:52:00</td>\n",
       "      <td>2022-12-06 12:53:00</td>\n",
       "      <td>1.0</td>\n",
       "      <td>2022-12-06</td>\n",
       "      <td>2022-12-06</td>\n",
       "    </tr>\n",
       "    <tr>\n",
       "      <th>178837</th>\n",
       "      <td>37466784704</td>\n",
       "      <td>Заказ доставлен</td>\n",
       "      <td>2022-12-06 12:53:00</td>\n",
       "      <td>2022-12-06 12:53:00</td>\n",
       "      <td>0.0</td>\n",
       "      <td>2022-12-06</td>\n",
       "      <td>2022-12-06</td>\n",
       "    </tr>\n",
       "  </tbody>\n",
       "</table>\n",
       "</div>"
      ],
      "text/plain": [
       "               case                        stage          start_time  \\\n",
       "178828  37466784704               Заказ оформлен 2022-12-06 11:15:00   \n",
       "178829  37466784704  Поступление заказа сборщику 2022-12-06 11:16:00   \n",
       "178830  37466784704                Сборка заказа 2022-12-06 11:41:00   \n",
       "178831  37466784704              Упаковка товара 2022-12-06 12:07:00   \n",
       "178832  37466784704                       Оплата 2022-12-06 12:10:00   \n",
       "178833  37466784704      Передача товара курьеру 2022-12-06 12:15:00   \n",
       "178834  37466784704              Доставка заказа 2022-12-06 12:20:00   \n",
       "178835  37466784704              Проверка заказа 2022-12-06 12:51:00   \n",
       "178836  37466784704                Отмена заказа 2022-12-06 12:52:00   \n",
       "178837  37466784704              Заказ доставлен 2022-12-06 12:53:00   \n",
       "\n",
       "                  end_time  op_time_minutes start_time_day end_time_day  \n",
       "178828 2022-12-06 11:15:00              0.0     2022-12-06   2022-12-06  \n",
       "178829 2022-12-06 11:17:00              1.0     2022-12-06   2022-12-06  \n",
       "178830 2022-12-06 12:05:00             24.0     2022-12-06   2022-12-06  \n",
       "178831 2022-12-06 12:09:00              2.0     2022-12-06   2022-12-06  \n",
       "178832 2022-12-06 12:10:00              0.0     2022-12-06   2022-12-06  \n",
       "178833 2022-12-06 12:20:00              5.0     2022-12-06   2022-12-06  \n",
       "178834 2022-12-06 12:51:00             31.0     2022-12-06   2022-12-06  \n",
       "178835 2022-12-06 12:52:00              1.0     2022-12-06   2022-12-06  \n",
       "178836 2022-12-06 12:53:00              1.0     2022-12-06   2022-12-06  \n",
       "178837 2022-12-06 12:53:00              0.0     2022-12-06   2022-12-06  "
      ]
     },
     "execution_count": 132,
     "metadata": {},
     "output_type": "execute_result"
    }
   ],
   "source": [
    "df[df.case==37466784704]"
   ]
  },
  {
   "cell_type": "markdown",
   "id": "9e3ba465",
   "metadata": {},
   "source": [
    "## Расчёт хронометража"
   ]
  },
  {
   "cell_type": "code",
   "execution_count": 133,
   "id": "ca537483",
   "metadata": {},
   "outputs": [],
   "source": [
    "sns.set_theme()\n",
    "sns.set(rc={'figure.figsize':(6,3)})"
   ]
  },
  {
   "cell_type": "code",
   "execution_count": 134,
   "id": "51d88c64",
   "metadata": {},
   "outputs": [
    {
     "data": {
      "text/plain": [
       "(19988, 11)"
      ]
     },
     "execution_count": 134,
     "metadata": {},
     "output_type": "execute_result"
    }
   ],
   "source": [
    "#Сводная таблица суммы времени выполнения каждой стадии для каждого кейса\n",
    "stage_sum_pivot = df.pivot_table(index = 'case',\n",
    "              columns ='stage',\n",
    "              values = 'op_time_minutes',\n",
    "              aggfunc = \"sum\").fillna(0)\n",
    "stage_sum_pivot.shape"
   ]
  },
  {
   "cell_type": "code",
   "execution_count": 135,
   "id": "f8e7e015",
   "metadata": {},
   "outputs": [],
   "source": [
    "stage_sum_pivot['Длительность'] = stage_sum_pivot['Доставка заказа']+\\\n",
    "                                stage_sum_pivot['Заказ доставлен']+\\\n",
    "                                stage_sum_pivot['Заказ оформлен']+\\\n",
    "                                stage_sum_pivot['Звонок клиенту']+\\\n",
    "                                stage_sum_pivot['Оплата']+\\\n",
    "                                stage_sum_pivot['Отмена заказа']+\\\n",
    "                                stage_sum_pivot['Передача товара курьеру']+\\\n",
    "                                stage_sum_pivot['Поступление заказа сборщику']+\\\n",
    "                                stage_sum_pivot['Проверка заказа']+\\\n",
    "                                stage_sum_pivot['Сборка заказа']+\\\n",
    "                                stage_sum_pivot['Упаковка товара']"
   ]
  },
  {
   "cell_type": "code",
   "execution_count": 136,
   "id": "fe6a0f2d",
   "metadata": {},
   "outputs": [
    {
     "data": {
      "text/html": [
       "<div>\n",
       "<style scoped>\n",
       "    .dataframe tbody tr th:only-of-type {\n",
       "        vertical-align: middle;\n",
       "    }\n",
       "\n",
       "    .dataframe tbody tr th {\n",
       "        vertical-align: top;\n",
       "    }\n",
       "\n",
       "    .dataframe thead th {\n",
       "        text-align: right;\n",
       "    }\n",
       "</style>\n",
       "<table border=\"1\" class=\"dataframe\">\n",
       "  <thead>\n",
       "    <tr style=\"text-align: right;\">\n",
       "      <th>stage</th>\n",
       "      <th>Доставка заказа</th>\n",
       "      <th>Заказ доставлен</th>\n",
       "      <th>Заказ оформлен</th>\n",
       "      <th>Звонок клиенту</th>\n",
       "      <th>Оплата</th>\n",
       "      <th>Отмена заказа</th>\n",
       "      <th>Передача товара курьеру</th>\n",
       "      <th>Поступление заказа сборщику</th>\n",
       "      <th>Проверка заказа</th>\n",
       "      <th>Сборка заказа</th>\n",
       "      <th>Упаковка товара</th>\n",
       "      <th>Длительность</th>\n",
       "    </tr>\n",
       "    <tr>\n",
       "      <th>case</th>\n",
       "      <th></th>\n",
       "      <th></th>\n",
       "      <th></th>\n",
       "      <th></th>\n",
       "      <th></th>\n",
       "      <th></th>\n",
       "      <th></th>\n",
       "      <th></th>\n",
       "      <th></th>\n",
       "      <th></th>\n",
       "      <th></th>\n",
       "      <th></th>\n",
       "    </tr>\n",
       "  </thead>\n",
       "  <tbody>\n",
       "    <tr>\n",
       "      <th>10007845189</th>\n",
       "      <td>33.0</td>\n",
       "      <td>0.0</td>\n",
       "      <td>0.0</td>\n",
       "      <td>0.0</td>\n",
       "      <td>0.0</td>\n",
       "      <td>0.0</td>\n",
       "      <td>5.0</td>\n",
       "      <td>1.0</td>\n",
       "      <td>2.0</td>\n",
       "      <td>24.0</td>\n",
       "      <td>2.0</td>\n",
       "      <td>67.0</td>\n",
       "    </tr>\n",
       "  </tbody>\n",
       "</table>\n",
       "</div>"
      ],
      "text/plain": [
       "stage        Доставка заказа  Заказ доставлен  Заказ оформлен  Звонок клиенту  \\\n",
       "case                                                                            \n",
       "10007845189             33.0              0.0             0.0             0.0   \n",
       "\n",
       "stage        Оплата  Отмена заказа  Передача товара курьеру  \\\n",
       "case                                                          \n",
       "10007845189     0.0            0.0                      5.0   \n",
       "\n",
       "stage        Поступление заказа сборщику  Проверка заказа  Сборка заказа  \\\n",
       "case                                                                       \n",
       "10007845189                          1.0              2.0           24.0   \n",
       "\n",
       "stage        Упаковка товара  Длительность  \n",
       "case                                        \n",
       "10007845189              2.0          67.0  "
      ]
     },
     "execution_count": 136,
     "metadata": {},
     "output_type": "execute_result"
    }
   ],
   "source": [
    "stage_sum_pivot.head(1)"
   ]
  },
  {
   "cell_type": "code",
   "execution_count": 137,
   "id": "8adb1af6",
   "metadata": {},
   "outputs": [
    {
     "data": {
      "text/html": [
       "<div>\n",
       "<style scoped>\n",
       "    .dataframe tbody tr th:only-of-type {\n",
       "        vertical-align: middle;\n",
       "    }\n",
       "\n",
       "    .dataframe tbody tr th {\n",
       "        vertical-align: top;\n",
       "    }\n",
       "\n",
       "    .dataframe thead th {\n",
       "        text-align: right;\n",
       "    }\n",
       "</style>\n",
       "<table border=\"1\" class=\"dataframe\">\n",
       "  <thead>\n",
       "    <tr style=\"text-align: right;\">\n",
       "      <th></th>\n",
       "      <th>count</th>\n",
       "      <th>mean</th>\n",
       "      <th>std</th>\n",
       "      <th>min</th>\n",
       "      <th>median</th>\n",
       "      <th>max</th>\n",
       "      <th>mean/med</th>\n",
       "    </tr>\n",
       "    <tr>\n",
       "      <th>stage</th>\n",
       "      <th></th>\n",
       "      <th></th>\n",
       "      <th></th>\n",
       "      <th></th>\n",
       "      <th></th>\n",
       "      <th></th>\n",
       "      <th></th>\n",
       "    </tr>\n",
       "  </thead>\n",
       "  <tbody>\n",
       "    <tr>\n",
       "      <th>Длительность</th>\n",
       "      <td>19988.0</td>\n",
       "      <td>68.83</td>\n",
       "      <td>19.80</td>\n",
       "      <td>0.0</td>\n",
       "      <td>66.0</td>\n",
       "      <td>162.0</td>\n",
       "      <td>1.04</td>\n",
       "    </tr>\n",
       "    <tr>\n",
       "      <th>Доставка заказа</th>\n",
       "      <td>19988.0</td>\n",
       "      <td>29.13</td>\n",
       "      <td>10.05</td>\n",
       "      <td>0.0</td>\n",
       "      <td>32.0</td>\n",
       "      <td>35.0</td>\n",
       "      <td>0.91</td>\n",
       "    </tr>\n",
       "    <tr>\n",
       "      <th>Сборка заказа</th>\n",
       "      <td>19988.0</td>\n",
       "      <td>27.13</td>\n",
       "      <td>8.97</td>\n",
       "      <td>0.0</td>\n",
       "      <td>24.0</td>\n",
       "      <td>49.0</td>\n",
       "      <td>1.13</td>\n",
       "    </tr>\n",
       "    <tr>\n",
       "      <th>Передача товара курьеру</th>\n",
       "      <td>19988.0</td>\n",
       "      <td>5.98</td>\n",
       "      <td>8.83</td>\n",
       "      <td>0.0</td>\n",
       "      <td>4.0</td>\n",
       "      <td>41.0</td>\n",
       "      <td>1.49</td>\n",
       "    </tr>\n",
       "    <tr>\n",
       "      <th>Поступление заказа сборщику</th>\n",
       "      <td>19988.0</td>\n",
       "      <td>2.30</td>\n",
       "      <td>5.77</td>\n",
       "      <td>0.0</td>\n",
       "      <td>1.0</td>\n",
       "      <td>66.0</td>\n",
       "      <td>2.30</td>\n",
       "    </tr>\n",
       "    <tr>\n",
       "      <th>Упаковка товара</th>\n",
       "      <td>19988.0</td>\n",
       "      <td>2.02</td>\n",
       "      <td>0.77</td>\n",
       "      <td>0.0</td>\n",
       "      <td>2.0</td>\n",
       "      <td>8.0</td>\n",
       "      <td>1.01</td>\n",
       "    </tr>\n",
       "    <tr>\n",
       "      <th>Проверка заказа</th>\n",
       "      <td>19988.0</td>\n",
       "      <td>1.28</td>\n",
       "      <td>0.80</td>\n",
       "      <td>0.0</td>\n",
       "      <td>2.0</td>\n",
       "      <td>3.0</td>\n",
       "      <td>0.64</td>\n",
       "    </tr>\n",
       "    <tr>\n",
       "      <th>Оплата</th>\n",
       "      <td>19988.0</td>\n",
       "      <td>0.42</td>\n",
       "      <td>0.50</td>\n",
       "      <td>0.0</td>\n",
       "      <td>0.0</td>\n",
       "      <td>2.0</td>\n",
       "      <td>inf</td>\n",
       "    </tr>\n",
       "    <tr>\n",
       "      <th>Звонок клиенту</th>\n",
       "      <td>19988.0</td>\n",
       "      <td>0.40</td>\n",
       "      <td>1.22</td>\n",
       "      <td>0.0</td>\n",
       "      <td>0.0</td>\n",
       "      <td>19.0</td>\n",
       "      <td>inf</td>\n",
       "    </tr>\n",
       "    <tr>\n",
       "      <th>Заказ оформлен</th>\n",
       "      <td>19988.0</td>\n",
       "      <td>0.09</td>\n",
       "      <td>0.28</td>\n",
       "      <td>0.0</td>\n",
       "      <td>0.0</td>\n",
       "      <td>1.0</td>\n",
       "      <td>inf</td>\n",
       "    </tr>\n",
       "    <tr>\n",
       "      <th>Заказ доставлен</th>\n",
       "      <td>19988.0</td>\n",
       "      <td>0.06</td>\n",
       "      <td>0.24</td>\n",
       "      <td>0.0</td>\n",
       "      <td>0.0</td>\n",
       "      <td>1.0</td>\n",
       "      <td>inf</td>\n",
       "    </tr>\n",
       "    <tr>\n",
       "      <th>Отмена заказа</th>\n",
       "      <td>19988.0</td>\n",
       "      <td>0.02</td>\n",
       "      <td>0.14</td>\n",
       "      <td>0.0</td>\n",
       "      <td>0.0</td>\n",
       "      <td>1.0</td>\n",
       "      <td>inf</td>\n",
       "    </tr>\n",
       "  </tbody>\n",
       "</table>\n",
       "</div>"
      ],
      "text/plain": [
       "                               count   mean    std  min  median    max  \\\n",
       "stage                                                                    \n",
       "Длительность                 19988.0  68.83  19.80  0.0    66.0  162.0   \n",
       "Доставка заказа              19988.0  29.13  10.05  0.0    32.0   35.0   \n",
       "Сборка заказа                19988.0  27.13   8.97  0.0    24.0   49.0   \n",
       "Передача товара курьеру      19988.0   5.98   8.83  0.0     4.0   41.0   \n",
       "Поступление заказа сборщику  19988.0   2.30   5.77  0.0     1.0   66.0   \n",
       "Упаковка товара              19988.0   2.02   0.77  0.0     2.0    8.0   \n",
       "Проверка заказа              19988.0   1.28   0.80  0.0     2.0    3.0   \n",
       "Оплата                       19988.0   0.42   0.50  0.0     0.0    2.0   \n",
       "Звонок клиенту               19988.0   0.40   1.22  0.0     0.0   19.0   \n",
       "Заказ оформлен               19988.0   0.09   0.28  0.0     0.0    1.0   \n",
       "Заказ доставлен              19988.0   0.06   0.24  0.0     0.0    1.0   \n",
       "Отмена заказа                19988.0   0.02   0.14  0.0     0.0    1.0   \n",
       "\n",
       "                             mean/med  \n",
       "stage                                  \n",
       "Длительность                     1.04  \n",
       "Доставка заказа                  0.91  \n",
       "Сборка заказа                    1.13  \n",
       "Передача товара курьеру          1.49  \n",
       "Поступление заказа сборщику      2.30  \n",
       "Упаковка товара                  1.01  \n",
       "Проверка заказа                  0.64  \n",
       "Оплата                            inf  \n",
       "Звонок клиенту                    inf  \n",
       "Заказ оформлен                    inf  \n",
       "Заказ доставлен                   inf  \n",
       "Отмена заказа                     inf  "
      ]
     },
     "execution_count": 137,
     "metadata": {},
     "output_type": "execute_result"
    }
   ],
   "source": [
    "des = stage_sum_pivot.describe(include='all').transpose().fillna(0)\n",
    "des = des.drop([\"25%\", \"75%\"], axis=1).rename(columns={\"50%\":\"median\"})\n",
    "des['mean/med'] = des['mean']/des['median']\n",
    "des  = des.sort_values(\"mean\", ascending=False) #Отсортировал по среднему\n",
    "des.round(2)"
   ]
  },
  {
   "cell_type": "code",
   "execution_count": 138,
   "id": "dfe786e6",
   "metadata": {},
   "outputs": [],
   "source": [
    "des2 = des[des['mean'] > 2]\n",
    "sns.set(rc={'figure.figsize':(12,6)})"
   ]
  },
  {
   "cell_type": "code",
   "execution_count": 139,
   "id": "1dfc3f58",
   "metadata": {},
   "outputs": [
    {
     "data": {
      "text/plain": [
       "([<matplotlib.patches.Wedge at 0x123bc9db8d0>,\n",
       "  <matplotlib.patches.Wedge at 0x123cc7d22d0>,\n",
       "  <matplotlib.patches.Wedge at 0x123cc7d3310>,\n",
       "  <matplotlib.patches.Wedge at 0x123cc7e0290>,\n",
       "  <matplotlib.patches.Wedge at 0x123cc7e1310>,\n",
       "  <matplotlib.patches.Wedge at 0x123cc7e2550>],\n",
       " [Text(-0.02907135550026731, 1.0996157766644572, 'Длительность'),\n",
       "  Text(-0.820573445767208, -0.7325702833870146, 'Доставка заказа'),\n",
       "  Text(0.49176379848950963, -0.9839554697724736, 'Сборка заказа'),\n",
       "  Text(1.037353209931845, -0.3659211907557386, 'Передача товара курьеру'),\n",
       "  Text(1.0881283418333896, -0.1611729248320525, 'Поступление заказа сборщику'),\n",
       "  Text(1.0987943418070478, -0.0514878083901075, 'Упаковка товара')])"
      ]
     },
     "execution_count": 139,
     "metadata": {},
     "output_type": "execute_result"
    },
    {
     "data": {
      "image/png": "[encoded data removed]",
      "text/plain": [
       "<Figure size 1200x600 with 1 Axes>"
      ]
     },
     "metadata": {},
     "output_type": "display_data"
    }
   ],
   "source": [
    "plt.pie(des2['mean'], labels=des2.index)"
   ]
  },
  {
   "cell_type": "code",
   "execution_count": 140,
   "id": "60c4c4fc",
   "metadata": {},
   "outputs": [
    {
     "data": {
      "text/plain": [
       "<Axes: xlabel='stage'>"
      ]
     },
     "execution_count": 140,
     "metadata": {},
     "output_type": "execute_result"
    },
    {
     "data": {
      "image/png": "[encoded data removed]",
      "text/plain": [
       "<Figure size 1200x600 with 1 Axes>"
      ]
     },
     "metadata": {},
     "output_type": "display_data"
    }
   ],
   "source": [
    "des['mean'].transpose().plot(kind='bar', stacked=True)"
   ]
  },
  {
   "cell_type": "code",
   "execution_count": 141,
   "id": "5eefcd7f",
   "metadata": {},
   "outputs": [
    {
     "data": {
      "text/plain": [
       "Index([10017161163, 10040881505, 10112074232, 10140436665, 10147497683,\n",
       "       10177023046, 10198086338, 10288104757, 10307806078, 10339307808,\n",
       "       ...\n",
       "       89666782634, 89679934684, 89702689864, 89739527107, 89815076109,\n",
       "       89825500768, 89915111140, 89918315836, 89919423226, 89987328229],\n",
       "      dtype='int64', name='case', length=1774)"
      ]
     },
     "execution_count": 141,
     "metadata": {},
     "output_type": "execute_result"
    }
   ],
   "source": [
    "stage_sum_pivot[stage_sum_pivot['Длительность'] <= 45].index"
   ]
  },
  {
   "cell_type": "code",
   "execution_count": 142,
   "id": "a8853115",
   "metadata": {},
   "outputs": [],
   "source": [
    "stage_sum_pivot.drop(stage_sum_pivot[stage_sum_pivot['Длительность'] <= 10].index, inplace = True)"
   ]
  },
  {
   "cell_type": "code",
   "execution_count": 143,
   "id": "f3dd004c",
   "metadata": {},
   "outputs": [],
   "source": [
    "stage_sum_pivot['Длительность//10*10'] = stage_sum_pivot['Длительность']//10*10"
   ]
  },
  {
   "cell_type": "code",
   "execution_count": 144,
   "id": "ce501ef2",
   "metadata": {},
   "outputs": [],
   "source": [
    "chrono_distribution = stage_sum_pivot.loc[:, [\"Длительность//10*10\"]].\\\n",
    "            reset_index().groupby(\"Длительность//10*10\").agg(\"count\")"
   ]
  },
  {
   "cell_type": "code",
   "execution_count": 145,
   "id": "6b389834-9b2a-4979-b3e2-9472d799b868",
   "metadata": {},
   "outputs": [
    {
     "data": {
      "text/plain": [
       "<Axes: xlabel='Длительность//10*10', ylabel='case'>"
      ]
     },
     "execution_count": 145,
     "metadata": {},
     "output_type": "execute_result"
    },
    {
     "data": {
      "image/png": "[encoded data removed]",
      "text/plain": [
       "<Figure size 1200x600 with 1 Axes>"
      ]
     },
     "metadata": {},
     "output_type": "display_data"
    }
   ],
   "source": [
    "sns.barplot(chrono_distribution.reset_index(), x='Длительность//10*10', y = 'case')"
   ]
  },
  {
   "cell_type": "code",
   "execution_count": 146,
   "id": "a0e2f04a",
   "metadata": {},
   "outputs": [
    {
     "data": {
      "text/html": [
       "<div>\n",
       "<style scoped>\n",
       "    .dataframe tbody tr th:only-of-type {\n",
       "        vertical-align: middle;\n",
       "    }\n",
       "\n",
       "    .dataframe tbody tr th {\n",
       "        vertical-align: top;\n",
       "    }\n",
       "\n",
       "    .dataframe thead th {\n",
       "        text-align: right;\n",
       "    }\n",
       "</style>\n",
       "<table border=\"1\" class=\"dataframe\">\n",
       "  <thead>\n",
       "    <tr style=\"text-align: right;\">\n",
       "      <th></th>\n",
       "      <th>count</th>\n",
       "      <th>mean</th>\n",
       "      <th>std</th>\n",
       "      <th>min</th>\n",
       "      <th>median</th>\n",
       "      <th>max</th>\n",
       "      <th>mean/med</th>\n",
       "    </tr>\n",
       "    <tr>\n",
       "      <th>stage</th>\n",
       "      <th></th>\n",
       "      <th></th>\n",
       "      <th></th>\n",
       "      <th></th>\n",
       "      <th></th>\n",
       "      <th></th>\n",
       "      <th></th>\n",
       "    </tr>\n",
       "  </thead>\n",
       "  <tbody>\n",
       "    <tr>\n",
       "      <th>Доставка заказа</th>\n",
       "      <td>19781.0</td>\n",
       "      <td>29.4</td>\n",
       "      <td>9.6</td>\n",
       "      <td>0.0</td>\n",
       "      <td>33.0</td>\n",
       "      <td>35.0</td>\n",
       "      <td>0.9</td>\n",
       "    </tr>\n",
       "    <tr>\n",
       "      <th>Заказ доставлен</th>\n",
       "      <td>19781.0</td>\n",
       "      <td>0.1</td>\n",
       "      <td>0.2</td>\n",
       "      <td>0.0</td>\n",
       "      <td>0.0</td>\n",
       "      <td>1.0</td>\n",
       "      <td>inf</td>\n",
       "    </tr>\n",
       "    <tr>\n",
       "      <th>Заказ оформлен</th>\n",
       "      <td>19781.0</td>\n",
       "      <td>0.1</td>\n",
       "      <td>0.3</td>\n",
       "      <td>0.0</td>\n",
       "      <td>0.0</td>\n",
       "      <td>1.0</td>\n",
       "      <td>inf</td>\n",
       "    </tr>\n",
       "    <tr>\n",
       "      <th>Звонок клиенту</th>\n",
       "      <td>19781.0</td>\n",
       "      <td>0.4</td>\n",
       "      <td>1.2</td>\n",
       "      <td>0.0</td>\n",
       "      <td>0.0</td>\n",
       "      <td>19.0</td>\n",
       "      <td>inf</td>\n",
       "    </tr>\n",
       "    <tr>\n",
       "      <th>Оплата</th>\n",
       "      <td>19781.0</td>\n",
       "      <td>0.4</td>\n",
       "      <td>0.5</td>\n",
       "      <td>0.0</td>\n",
       "      <td>0.0</td>\n",
       "      <td>2.0</td>\n",
       "      <td>inf</td>\n",
       "    </tr>\n",
       "    <tr>\n",
       "      <th>Отмена заказа</th>\n",
       "      <td>19781.0</td>\n",
       "      <td>0.0</td>\n",
       "      <td>0.1</td>\n",
       "      <td>0.0</td>\n",
       "      <td>0.0</td>\n",
       "      <td>1.0</td>\n",
       "      <td>inf</td>\n",
       "    </tr>\n",
       "    <tr>\n",
       "      <th>Передача товара курьеру</th>\n",
       "      <td>19781.0</td>\n",
       "      <td>6.0</td>\n",
       "      <td>8.9</td>\n",
       "      <td>0.0</td>\n",
       "      <td>4.0</td>\n",
       "      <td>41.0</td>\n",
       "      <td>1.5</td>\n",
       "    </tr>\n",
       "    <tr>\n",
       "      <th>Поступление заказа сборщику</th>\n",
       "      <td>19781.0</td>\n",
       "      <td>2.3</td>\n",
       "      <td>5.8</td>\n",
       "      <td>0.0</td>\n",
       "      <td>1.0</td>\n",
       "      <td>66.0</td>\n",
       "      <td>2.3</td>\n",
       "    </tr>\n",
       "    <tr>\n",
       "      <th>Проверка заказа</th>\n",
       "      <td>19781.0</td>\n",
       "      <td>1.3</td>\n",
       "      <td>0.8</td>\n",
       "      <td>0.0</td>\n",
       "      <td>2.0</td>\n",
       "      <td>3.0</td>\n",
       "      <td>0.6</td>\n",
       "    </tr>\n",
       "    <tr>\n",
       "      <th>Сборка заказа</th>\n",
       "      <td>19781.0</td>\n",
       "      <td>27.4</td>\n",
       "      <td>8.6</td>\n",
       "      <td>23.0</td>\n",
       "      <td>24.0</td>\n",
       "      <td>49.0</td>\n",
       "      <td>1.1</td>\n",
       "    </tr>\n",
       "    <tr>\n",
       "      <th>Упаковка товара</th>\n",
       "      <td>19781.0</td>\n",
       "      <td>2.0</td>\n",
       "      <td>0.7</td>\n",
       "      <td>0.0</td>\n",
       "      <td>2.0</td>\n",
       "      <td>8.0</td>\n",
       "      <td>1.0</td>\n",
       "    </tr>\n",
       "    <tr>\n",
       "      <th>Длительность</th>\n",
       "      <td>19781.0</td>\n",
       "      <td>69.6</td>\n",
       "      <td>18.6</td>\n",
       "      <td>26.0</td>\n",
       "      <td>66.0</td>\n",
       "      <td>162.0</td>\n",
       "      <td>1.1</td>\n",
       "    </tr>\n",
       "    <tr>\n",
       "      <th>Длительность//10*10</th>\n",
       "      <td>19781.0</td>\n",
       "      <td>64.2</td>\n",
       "      <td>19.7</td>\n",
       "      <td>20.0</td>\n",
       "      <td>60.0</td>\n",
       "      <td>160.0</td>\n",
       "      <td>1.1</td>\n",
       "    </tr>\n",
       "  </tbody>\n",
       "</table>\n",
       "</div>"
      ],
      "text/plain": [
       "                               count  mean   std   min  median    max  \\\n",
       "stage                                                                   \n",
       "Доставка заказа              19781.0  29.4   9.6   0.0    33.0   35.0   \n",
       "Заказ доставлен              19781.0   0.1   0.2   0.0     0.0    1.0   \n",
       "Заказ оформлен               19781.0   0.1   0.3   0.0     0.0    1.0   \n",
       "Звонок клиенту               19781.0   0.4   1.2   0.0     0.0   19.0   \n",
       "Оплата                       19781.0   0.4   0.5   0.0     0.0    2.0   \n",
       "Отмена заказа                19781.0   0.0   0.1   0.0     0.0    1.0   \n",
       "Передача товара курьеру      19781.0   6.0   8.9   0.0     4.0   41.0   \n",
       "Поступление заказа сборщику  19781.0   2.3   5.8   0.0     1.0   66.0   \n",
       "Проверка заказа              19781.0   1.3   0.8   0.0     2.0    3.0   \n",
       "Сборка заказа                19781.0  27.4   8.6  23.0    24.0   49.0   \n",
       "Упаковка товара              19781.0   2.0   0.7   0.0     2.0    8.0   \n",
       "Длительность                 19781.0  69.6  18.6  26.0    66.0  162.0   \n",
       "Длительность//10*10          19781.0  64.2  19.7  20.0    60.0  160.0   \n",
       "\n",
       "                             mean/med  \n",
       "stage                                  \n",
       "Доставка заказа                   0.9  \n",
       "Заказ доставлен                   inf  \n",
       "Заказ оформлен                    inf  \n",
       "Звонок клиенту                    inf  \n",
       "Оплата                            inf  \n",
       "Отмена заказа                     inf  \n",
       "Передача товара курьеру           1.5  \n",
       "Поступление заказа сборщику       2.3  \n",
       "Проверка заказа                   0.6  \n",
       "Сборка заказа                     1.1  \n",
       "Упаковка товара                   1.0  \n",
       "Длительность                      1.1  \n",
       "Длительность//10*10               1.1  "
      ]
     },
     "execution_count": 146,
     "metadata": {},
     "output_type": "execute_result"
    }
   ],
   "source": [
    "des = stage_sum_pivot.describe(include='all').transpose().fillna(0)\n",
    "des = des.drop([\"25%\", \"75%\"], axis=1).rename(columns={\"50%\":\"median\"})\n",
    "des['mean/med'] = des['mean']/des['median']\n",
    "des.sort_values(\"mean\", ascending=False) #Отсортировал по СКО\n",
    "round(des, 1)"
   ]
  },
  {
   "cell_type": "markdown",
   "id": "dd300a44",
   "metadata": {},
   "source": [
    "### Проверим на предмет выбросов те процессы, где наибольшее СКО"
   ]
  },
  {
   "cell_type": "code",
   "execution_count": 147,
   "id": "a3006847",
   "metadata": {},
   "outputs": [],
   "source": [
    "# Доставка заказа\n",
    "call_distribution = stage_sum_pivot.loc[:, [\"Доставка заказа\"]].\\\n",
    "            reset_index().groupby(\"Доставка заказа\").agg(\"count\")"
   ]
  },
  {
   "cell_type": "code",
   "execution_count": 148,
   "id": "5ee5a9f9",
   "metadata": {},
   "outputs": [
    {
     "name": "stderr",
     "output_type": "stream",
     "text": [
      "C:\\Users\\yeska\\anaconda3\\Lib\\site-packages\\seaborn\\_oldcore.py:1119: FutureWarning: use_inf_as_na option is deprecated and will be removed in a future version. Convert inf values to NaN before operating instead.\n",
      "  with pd.option_context('mode.use_inf_as_na', True):\n",
      "C:\\Users\\yeska\\anaconda3\\Lib\\site-packages\\seaborn\\_oldcore.py:1119: FutureWarning: use_inf_as_na option is deprecated and will be removed in a future version. Convert inf values to NaN before operating instead.\n",
      "  with pd.option_context('mode.use_inf_as_na', True):\n"
     ]
    },
    {
     "data": {
      "text/plain": [
       "<Axes: xlabel='Доставка заказа', ylabel='case'>"
      ]
     },
     "execution_count": 148,
     "metadata": {},
     "output_type": "execute_result"
    },
    {
     "data": {
      "image/png": "[encoded data removed]",
      "text/plain": [
       "<Figure size 1200x600 with 1 Axes>"
      ]
     },
     "metadata": {},
     "output_type": "display_data"
    }
   ],
   "source": [
    "sns.lineplot(call_distribution, x=\"Доставка заказа\", y='case')"
   ]
  },
  {
   "cell_type": "code",
   "execution_count": 149,
   "id": "c3a6c87c",
   "metadata": {},
   "outputs": [],
   "source": [
    "# Звонок клиенту\n",
    "call_distribution = stage_sum_pivot.loc[:, [\"Звонок клиенту\"]].\\\n",
    "            reset_index().groupby(\"Звонок клиенту\").agg(\"count\")"
   ]
  },
  {
   "cell_type": "code",
   "execution_count": 150,
   "id": "20de4522",
   "metadata": {},
   "outputs": [
    {
     "name": "stderr",
     "output_type": "stream",
     "text": [
      "C:\\Users\\yeska\\anaconda3\\Lib\\site-packages\\seaborn\\_oldcore.py:1119: FutureWarning: use_inf_as_na option is deprecated and will be removed in a future version. Convert inf values to NaN before operating instead.\n",
      "  with pd.option_context('mode.use_inf_as_na', True):\n",
      "C:\\Users\\yeska\\anaconda3\\Lib\\site-packages\\seaborn\\_oldcore.py:1119: FutureWarning: use_inf_as_na option is deprecated and will be removed in a future version. Convert inf values to NaN before operating instead.\n",
      "  with pd.option_context('mode.use_inf_as_na', True):\n"
     ]
    },
    {
     "data": {
      "text/plain": [
       "<Axes: xlabel='Звонок клиенту', ylabel='case'>"
      ]
     },
     "execution_count": 150,
     "metadata": {},
     "output_type": "execute_result"
    },
    {
     "data": {
      "image/png": "[encoded data removed]",
      "text/plain": [
       "<Figure size 1200x600 with 1 Axes>"
      ]
     },
     "metadata": {},
     "output_type": "display_data"
    }
   ],
   "source": [
    "sns.lineplot(call_distribution, x=\"Звонок клиенту\", y='case')"
   ]
  },
  {
   "cell_type": "code",
   "execution_count": 151,
   "id": "50268220",
   "metadata": {},
   "outputs": [],
   "source": [
    "#Передача товара курьеру\n",
    "call_distribution = stage_sum_pivot.loc[:, [\"Передача товара курьеру\"]].\\\n",
    "            reset_index().groupby(\"Передача товара курьеру\").agg(\"count\")"
   ]
  },
  {
   "cell_type": "code",
   "execution_count": 152,
   "id": "d6c1804b",
   "metadata": {},
   "outputs": [
    {
     "data": {
      "text/html": [
       "<div>\n",
       "<style scoped>\n",
       "    .dataframe tbody tr th:only-of-type {\n",
       "        vertical-align: middle;\n",
       "    }\n",
       "\n",
       "    .dataframe tbody tr th {\n",
       "        vertical-align: top;\n",
       "    }\n",
       "\n",
       "    .dataframe thead th {\n",
       "        text-align: right;\n",
       "    }\n",
       "</style>\n",
       "<table border=\"1\" class=\"dataframe\">\n",
       "  <thead>\n",
       "    <tr style=\"text-align: right;\">\n",
       "      <th>stage</th>\n",
       "      <th>Передача товара курьеру</th>\n",
       "    </tr>\n",
       "    <tr>\n",
       "      <th>case</th>\n",
       "      <th></th>\n",
       "    </tr>\n",
       "  </thead>\n",
       "  <tbody>\n",
       "    <tr>\n",
       "      <th>20290270892</th>\n",
       "      <td>41.0</td>\n",
       "    </tr>\n",
       "    <tr>\n",
       "      <th>53416791462</th>\n",
       "      <td>41.0</td>\n",
       "    </tr>\n",
       "    <tr>\n",
       "      <th>61059079751</th>\n",
       "      <td>41.0</td>\n",
       "    </tr>\n",
       "    <tr>\n",
       "      <th>38251215748</th>\n",
       "      <td>41.0</td>\n",
       "    </tr>\n",
       "    <tr>\n",
       "      <th>86142483606</th>\n",
       "      <td>41.0</td>\n",
       "    </tr>\n",
       "  </tbody>\n",
       "</table>\n",
       "</div>"
      ],
      "text/plain": [
       "stage        Передача товара курьеру\n",
       "case                                \n",
       "20290270892                     41.0\n",
       "53416791462                     41.0\n",
       "61059079751                     41.0\n",
       "38251215748                     41.0\n",
       "86142483606                     41.0"
      ]
     },
     "execution_count": 152,
     "metadata": {},
     "output_type": "execute_result"
    }
   ],
   "source": [
    "stage_sum_pivot.loc[:, [\"Передача товара курьеру\"]].\\\n",
    "sort_values([\"Передача товара курьеру\"], ascending=False).head()"
   ]
  },
  {
   "cell_type": "code",
   "execution_count": 153,
   "id": "14302e61-e953-4187-8d9d-9954add453d6",
   "metadata": {},
   "outputs": [
    {
     "name": "stderr",
     "output_type": "stream",
     "text": [
      "C:\\Users\\yeska\\anaconda3\\Lib\\site-packages\\seaborn\\_oldcore.py:1119: FutureWarning: use_inf_as_na option is deprecated and will be removed in a future version. Convert inf values to NaN before operating instead.\n",
      "  with pd.option_context('mode.use_inf_as_na', True):\n",
      "C:\\Users\\yeska\\anaconda3\\Lib\\site-packages\\seaborn\\_oldcore.py:1119: FutureWarning: use_inf_as_na option is deprecated and will be removed in a future version. Convert inf values to NaN before operating instead.\n",
      "  with pd.option_context('mode.use_inf_as_na', True):\n"
     ]
    },
    {
     "data": {
      "text/plain": [
       "<Axes: xlabel='Передача товара курьеру', ylabel='case'>"
      ]
     },
     "execution_count": 153,
     "metadata": {},
     "output_type": "execute_result"
    },
    {
     "data": {
      "image/png": "[encoded data removed]",
      "text/plain": [
       "<Figure size 1200x600 with 1 Axes>"
      ]
     },
     "metadata": {},
     "output_type": "display_data"
    }
   ],
   "source": [
    "sns.lineplot(call_distribution, x=\"Передача товара курьеру\", y='case')"
   ]
  },
  {
   "cell_type": "code",
   "execution_count": 154,
   "id": "f3d07fa8",
   "metadata": {},
   "outputs": [
    {
     "data": {
      "text/html": [
       "<div>\n",
       "<style scoped>\n",
       "    .dataframe tbody tr th:only-of-type {\n",
       "        vertical-align: middle;\n",
       "    }\n",
       "\n",
       "    .dataframe tbody tr th {\n",
       "        vertical-align: top;\n",
       "    }\n",
       "\n",
       "    .dataframe thead th {\n",
       "        text-align: right;\n",
       "    }\n",
       "</style>\n",
       "<table border=\"1\" class=\"dataframe\">\n",
       "  <thead>\n",
       "    <tr style=\"text-align: right;\">\n",
       "      <th>stage</th>\n",
       "      <th>case</th>\n",
       "    </tr>\n",
       "    <tr>\n",
       "      <th>Сборка заказа</th>\n",
       "      <th></th>\n",
       "    </tr>\n",
       "  </thead>\n",
       "  <tbody>\n",
       "    <tr>\n",
       "      <th>23.0</th>\n",
       "      <td>3767</td>\n",
       "    </tr>\n",
       "    <tr>\n",
       "      <th>24.0</th>\n",
       "      <td>12944</td>\n",
       "    </tr>\n",
       "    <tr>\n",
       "      <th>25.0</th>\n",
       "      <td>45</td>\n",
       "    </tr>\n",
       "    <tr>\n",
       "      <th>46.0</th>\n",
       "      <td>170</td>\n",
       "    </tr>\n",
       "    <tr>\n",
       "      <th>47.0</th>\n",
       "      <td>1010</td>\n",
       "    </tr>\n",
       "    <tr>\n",
       "      <th>48.0</th>\n",
       "      <td>1837</td>\n",
       "    </tr>\n",
       "    <tr>\n",
       "      <th>49.0</th>\n",
       "      <td>8</td>\n",
       "    </tr>\n",
       "  </tbody>\n",
       "</table>\n",
       "</div>"
      ],
      "text/plain": [
       "stage           case\n",
       "Сборка заказа       \n",
       "23.0            3767\n",
       "24.0           12944\n",
       "25.0              45\n",
       "46.0             170\n",
       "47.0            1010\n",
       "48.0            1837\n",
       "49.0               8"
      ]
     },
     "execution_count": 154,
     "metadata": {},
     "output_type": "execute_result"
    }
   ],
   "source": [
    "#Сборка заказа\n",
    "call_distribution = stage_sum_pivot.loc[:, [\"Сборка заказа\"]].reset_index().groupby(\"Сборка заказа\").agg(\"count\")\n",
    "call_distribution"
   ]
  },
  {
   "cell_type": "code",
   "execution_count": 155,
   "id": "b96e55eb",
   "metadata": {},
   "outputs": [
    {
     "name": "stderr",
     "output_type": "stream",
     "text": [
      "C:\\Users\\yeska\\anaconda3\\Lib\\site-packages\\seaborn\\_oldcore.py:1119: FutureWarning: use_inf_as_na option is deprecated and will be removed in a future version. Convert inf values to NaN before operating instead.\n",
      "  with pd.option_context('mode.use_inf_as_na', True):\n",
      "C:\\Users\\yeska\\anaconda3\\Lib\\site-packages\\seaborn\\_oldcore.py:1119: FutureWarning: use_inf_as_na option is deprecated and will be removed in a future version. Convert inf values to NaN before operating instead.\n",
      "  with pd.option_context('mode.use_inf_as_na', True):\n"
     ]
    },
    {
     "data": {
      "text/plain": [
       "<Axes: xlabel='Сборка заказа', ylabel='case'>"
      ]
     },
     "execution_count": 155,
     "metadata": {},
     "output_type": "execute_result"
    },
    {
     "data": {
      "image/png": "[encoded data removed]",
      "text/plain": [
       "<Figure size 1200x600 with 1 Axes>"
      ]
     },
     "metadata": {},
     "output_type": "display_data"
    }
   ],
   "source": [
    "sns.lineplot(call_distribution, x=\"Сборка заказа\", y='case')"
   ]
  },
  {
   "cell_type": "code",
   "execution_count": 156,
   "id": "32819368",
   "metadata": {},
   "outputs": [],
   "source": [
    "#Поступление заказа сборщику\n",
    "call_distribution = stage_sum_pivot.loc[:, [\"Поступление заказа сборщику\"]].\\\n",
    "        reset_index().groupby(\"Поступление заказа сборщику\").agg(\"count\")"
   ]
  },
  {
   "cell_type": "code",
   "execution_count": 157,
   "id": "cec2bb8c-1479-476e-b0fe-78c82abf1fee",
   "metadata": {},
   "outputs": [
    {
     "name": "stderr",
     "output_type": "stream",
     "text": [
      "C:\\Users\\yeska\\anaconda3\\Lib\\site-packages\\seaborn\\_oldcore.py:1119: FutureWarning: use_inf_as_na option is deprecated and will be removed in a future version. Convert inf values to NaN before operating instead.\n",
      "  with pd.option_context('mode.use_inf_as_na', True):\n",
      "C:\\Users\\yeska\\anaconda3\\Lib\\site-packages\\seaborn\\_oldcore.py:1119: FutureWarning: use_inf_as_na option is deprecated and will be removed in a future version. Convert inf values to NaN before operating instead.\n",
      "  with pd.option_context('mode.use_inf_as_na', True):\n"
     ]
    },
    {
     "data": {
      "text/plain": [
       "<Axes: xlabel='Поступление заказа сборщику', ylabel='case'>"
      ]
     },
     "execution_count": 157,
     "metadata": {},
     "output_type": "execute_result"
    },
    {
     "data": {
      "image/png": "[encoded data removed]",
      "text/plain": [
       "<Figure size 1200x600 with 1 Axes>"
      ]
     },
     "metadata": {},
     "output_type": "display_data"
    }
   ],
   "source": [
    "sns.lineplot(call_distribution, x=\"Поступление заказа сборщику\", y='case')"
   ]
  },
  {
   "cell_type": "code",
   "execution_count": 158,
   "id": "54ff625c",
   "metadata": {},
   "outputs": [],
   "source": [
    "#Звонок клиенту \n",
    "call_distribution = stage_sum_pivot.loc[:, [\"Звонок клиенту\"]].reset_index().groupby(\"Звонок клиенту\").agg(\"count\")"
   ]
  },
  {
   "cell_type": "code",
   "execution_count": 160,
   "id": "41b4d632",
   "metadata": {},
   "outputs": [
    {
     "data": {
      "text/plain": [
       "<Axes: xlabel='Звонок клиенту', ylabel='case'>"
      ]
     },
     "execution_count": 160,
     "metadata": {},
     "output_type": "execute_result"
    },
    {
     "data": {
      "image/png": "[encoded data removed]",
      "text/plain": [
       "<Figure size 1200x600 with 1 Axes>"
      ]
     },
     "metadata": {},
     "output_type": "display_data"
    }
   ],
   "source": [
    "sns.barplot(call_distribution.reset_index(), x=\"Звонок клиенту\", y='case')"
   ]
  },
  {
   "cell_type": "code",
   "execution_count": 161,
   "id": "45feaf61",
   "metadata": {},
   "outputs": [
    {
     "data": {
      "text/html": [
       "<div>\n",
       "<style scoped>\n",
       "    .dataframe tbody tr th:only-of-type {\n",
       "        vertical-align: middle;\n",
       "    }\n",
       "\n",
       "    .dataframe tbody tr th {\n",
       "        vertical-align: top;\n",
       "    }\n",
       "\n",
       "    .dataframe thead th {\n",
       "        text-align: right;\n",
       "    }\n",
       "</style>\n",
       "<table border=\"1\" class=\"dataframe\">\n",
       "  <thead>\n",
       "    <tr style=\"text-align: right;\">\n",
       "      <th></th>\n",
       "      <th>count</th>\n",
       "      <th>mean</th>\n",
       "      <th>std</th>\n",
       "      <th>min</th>\n",
       "      <th>median</th>\n",
       "      <th>max</th>\n",
       "      <th>mean/med</th>\n",
       "    </tr>\n",
       "    <tr>\n",
       "      <th>stage</th>\n",
       "      <th></th>\n",
       "      <th></th>\n",
       "      <th></th>\n",
       "      <th></th>\n",
       "      <th></th>\n",
       "      <th></th>\n",
       "      <th></th>\n",
       "    </tr>\n",
       "  </thead>\n",
       "  <tbody>\n",
       "    <tr>\n",
       "      <th>Упаковка товара</th>\n",
       "      <td>19781.0</td>\n",
       "      <td>2.039027</td>\n",
       "      <td>0.743488</td>\n",
       "      <td>0.0</td>\n",
       "      <td>2.0</td>\n",
       "      <td>8.0</td>\n",
       "      <td>1.019514</td>\n",
       "    </tr>\n",
       "    <tr>\n",
       "      <th>Длительность</th>\n",
       "      <td>19781.0</td>\n",
       "      <td>69.551691</td>\n",
       "      <td>18.607666</td>\n",
       "      <td>26.0</td>\n",
       "      <td>66.0</td>\n",
       "      <td>162.0</td>\n",
       "      <td>1.053814</td>\n",
       "    </tr>\n",
       "    <tr>\n",
       "      <th>Длительность//10*10</th>\n",
       "      <td>19781.0</td>\n",
       "      <td>64.217178</td>\n",
       "      <td>19.741764</td>\n",
       "      <td>20.0</td>\n",
       "      <td>60.0</td>\n",
       "      <td>160.0</td>\n",
       "      <td>1.070286</td>\n",
       "    </tr>\n",
       "  </tbody>\n",
       "</table>\n",
       "</div>"
      ],
      "text/plain": [
       "                       count       mean        std   min  median    max  \\\n",
       "stage                                                                     \n",
       "Упаковка товара      19781.0   2.039027   0.743488   0.0     2.0    8.0   \n",
       "Длительность         19781.0  69.551691  18.607666  26.0    66.0  162.0   \n",
       "Длительность//10*10  19781.0  64.217178  19.741764  20.0    60.0  160.0   \n",
       "\n",
       "                     mean/med  \n",
       "stage                          \n",
       "Упаковка товара      1.019514  \n",
       "Длительность         1.053814  \n",
       "Длительность//10*10  1.070286  "
      ]
     },
     "execution_count": 161,
     "metadata": {},
     "output_type": "execute_result"
    }
   ],
   "source": [
    "des[(des[\"mean/med\"] > 0.9) & (des[\"mean/med\"] < 1.1) & (des[\"std\"] > 0.3)]"
   ]
  },
  {
   "cell_type": "markdown",
   "id": "4b3f6783",
   "metadata": {},
   "source": [
    "## Проверка SLA передачи заказов курьерам"
   ]
  },
  {
   "cell_type": "code",
   "execution_count": null,
   "id": "19f24daa",
   "metadata": {},
   "outputs": [],
   "source": [
    "#Сводная таблица последнего времени выполнения каждой стадии для каждого кейса\n",
    "gap_pivot = df.pivot_table(index = 'case',\n",
    "              columns='stage',\n",
    "              values = 'end_time',\n",
    "              aggfunc=\"last\")"
   ]
  },
  {
   "cell_type": "code",
   "execution_count": null,
   "id": "da92f135",
   "metadata": {},
   "outputs": [],
   "source": [
    "gap_pivot.head(3)"
   ]
  },
  {
   "cell_type": "code",
   "execution_count": null,
   "id": "8f54ae28",
   "metadata": {},
   "outputs": [],
   "source": [
    "#из неё выделим только Сборку и Передачу товара курьеру, так как нас только они интересуют\n",
    "#и тут же удалим нулевые значения\n",
    "gap_by_case = gap_pivot.loc[:, [\"Сборка заказа\", 'Передача товара курьеру']].dropna()"
   ]
  },
  {
   "cell_type": "code",
   "execution_count": null,
   "id": "3ac6821b",
   "metadata": {},
   "outputs": [],
   "source": [
    "gap_by_case.head(3)"
   ]
  },
  {
   "cell_type": "code",
   "execution_count": null,
   "id": "bb7e1f32",
   "metadata": {},
   "outputs": [],
   "source": [
    "#\"Владелец считает, что заказ передаётся курьеру в течение 30 минут после сборки\"\n",
    "#так что для SLA, как я понял, считаем время с конца сборки до конца передачи курьеру."
   ]
  },
  {
   "cell_type": "code",
   "execution_count": null,
   "id": "158c9f76",
   "metadata": {},
   "outputs": [],
   "source": [
    "#время между концом сборки заказа и концом передачи товара курьеру\n",
    "gap_by_case['Длительность операций'] = \\\n",
    "    (gap_by_case[\"Передача товара курьеру\"].astype('int64') - gap_by_case[\"Сборка заказа\"].astype('int64'))// 10**9 / 60"
   ]
  },
  {
   "cell_type": "code",
   "execution_count": null,
   "id": "40c19d70",
   "metadata": {},
   "outputs": [],
   "source": [
    "#число случаев, когда SLA выполняется\n",
    "SLA_true_cases = gap_by_case[gap_by_case['Длительность операций']<=30].shape[0]\n",
    "SLA_true_cases"
   ]
  },
  {
   "cell_type": "code",
   "execution_count": null,
   "id": "64a7989b",
   "metadata": {},
   "outputs": [],
   "source": [
    "#число случаев, когда SLA не выполняется\n",
    "SLA_false_cases = gap_by_case[gap_by_case['Длительность операций']>30].shape[0]\n",
    "SLA_false_cases"
   ]
  },
  {
   "cell_type": "code",
   "execution_count": null,
   "id": "bf96772b",
   "metadata": {},
   "outputs": [],
   "source": [
    "#SLA передачи заказов курьерам, т.е. процент вовремя переданных заказов (в течение 30 минут)\n",
    "SLA = SLA_true_cases/(SLA_true_cases + SLA_false_cases)*100\n",
    "SLA"
   ]
  },
  {
   "cell_type": "code",
   "execution_count": null,
   "id": "f0c1f9cf",
   "metadata": {},
   "outputs": [],
   "source": [
    "#сгруппируем длительность операций поминутно для того, чтоб построить график распределения \n",
    "gap_count = gap_by_case.groupby(\"Длительность операций\").agg({\"Сборка заказа\": \"count\"}).\\\n",
    "                reset_index().rename(columns={\"Сборка заказа\":\"Количество операций\"})"
   ]
  },
  {
   "cell_type": "code",
   "execution_count": null,
   "id": "fc2282e7",
   "metadata": {},
   "outputs": [],
   "source": [
    "gap_count.head(3)"
   ]
  },
  {
   "cell_type": "code",
   "execution_count": null,
   "id": "880bd465",
   "metadata": {},
   "outputs": [],
   "source": [
    "#заполняю нулями пропуски, для графика нужно\n",
    "for x in range(17, 38):\n",
    "    gap_count.loc[len(gap_count.index)] = [x, 0] \n",
    "    \n",
    "gap_count = gap_count.sort_values(\"Длительность операций\")"
   ]
  },
  {
   "cell_type": "code",
   "execution_count": null,
   "id": "259405e2",
   "metadata": {},
   "outputs": [],
   "source": [
    "sns.set_theme()\n",
    "sns.set(rc={'figure.figsize':(12,6)})\n",
    "plt.style.use('dark_background')"
   ]
  },
  {
   "cell_type": "code",
   "execution_count": null,
   "id": "f5deca20",
   "metadata": {},
   "outputs": [],
   "source": [
    "#раскрасим\n",
    "palette = ['#ff0000' if x > 30 else '#00b0f0' for x in gap_count[\"Длительность операций\"][:-3]]"
   ]
  },
  {
   "cell_type": "code",
   "execution_count": null,
   "id": "fb99a813",
   "metadata": {},
   "outputs": [],
   "source": [
    "ax = sns.barplot(gap_count[:-3], x=\"Длительность операций\", y=\"Количество операций\", palette=palette)#обрезал выброс в конце\n",
    "#график в логарифмической шкале, так как так лучше видно мелкие значения\n",
    "ax.set_title(\"Проверка SLA\")\n",
    "\n",
    "start, end = ax.get_xlim()\n",
    "ax.xaxis.set_ticks(np.arange(start+0.5, end+0.5, 2));\n",
    "ax.axvline(x = 26.0, ymin = 0, ymax = 1, color = '#ff0000', linewidth=\"3\") \n",
    "plt.text(27, 420, \"SLA = 30\", size='large', color='#ff0000', fontweight=\"bold\")"
   ]
  },
  {
   "cell_type": "code",
   "execution_count": null,
   "id": "a15929d6",
   "metadata": {},
   "outputs": [],
   "source": [
    "sns.set(rc={'figure.figsize':(5,5)})\n",
    "plt.style.use('dark_background')\n",
    "data = [SLA, 100-SLA]\n",
    "labels = [f\"SLA соблюдается; \\n {SLA_true_cases}; {round(SLA)}%\",\\\n",
    "          f\"SLA нарушен; \\n {SLA_false_cases}; {round(100-SLA)}%\"]\n",
    "plt.pie(data, labels=labels, colors = ['#00b0f0', '#ff0000'], startangle=120, textprops={'fontsize': 17\n",
    "                                                                                        })\n",
    "\n",
    "my_circle = plt.Circle((0, 0), 0.6, color='black')\n",
    "p = plt.gcf()\n",
    "p.gca().add_artist(my_circle)"
   ]
  },
  {
   "cell_type": "code",
   "execution_count": null,
   "id": "aeb44d16-e238-4188-81e8-be6511443f2d",
   "metadata": {},
   "outputs": [],
   "source": []
  },
  {
   "cell_type": "code",
   "execution_count": null,
   "id": "fd829d67-a7bc-49d3-add4-d3b25c96f22f",
   "metadata": {},
   "outputs": [],
   "source": []
  }
 ],
 "metadata": {
  "kernelspec": {
   "display_name": "Python 3 (ipykernel)",
   "language": "python",
   "name": "python3"
  },
  "language_info": {
   "codemirror_mode": {
    "name": "ipython",
    "version": 3
   },
   "file_extension": ".py",
   "mimetype": "text/x-python",
   "name": "python",
   "nbconvert_exporter": "python",
   "pygments_lexer": "ipython3",
   "version": "3.11.5"
  }
 },
 "nbformat": 4,
 "nbformat_minor": 5
}
